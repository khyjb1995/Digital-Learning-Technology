{
 "cells": [
  {
   "cell_type": "code",
   "execution_count": null,
   "metadata": {},
   "outputs": [
    {
     "name": "stdout",
     "output_type": "stream",
     "text": [
      "\n",
      "1.新增單字，2.查詢單字，3.單字練習，4.顯示所有單字，5.刪除單字，6.結束程式：\n"
     ]
    }
   ],
   "source": [
    "import random\n",
    "dic = {'banana':'香蕉', 'pineapple':'鳳梨','apple':'蘋果', 'peach':'桃子'}\n",
    "message = '\\n1.新增單字，2.查詢單字，3.單字練習，4.顯示所有單字，5.刪除單字，6.結束程式：'\n",
    "choice = 9\n",
    "\n",
    "def funcAdd(word):\n",
    "    if word in dic == False:\n",
    "        chi = input('請輸入中文意思：')\n",
    "        dic[word] = chi\n",
    "    else:\n",
    "        print('單字已存在，是否要更改其意思？')\n",
    "        if int(input('1.是，2.否：')) == 1:\n",
    "            chi = input('請輸入中文意思：')\n",
    "            dic[word] = chi\n",
    "\n",
    "def funcFind(word):\n",
    "    if word in dic:\n",
    "        chi = dic[word]\n",
    "        print(word + ':' , chi)\n",
    "    else:\n",
    "        print(\"查詢的單字'\" + word + \"'不存在！是否要新增單字？\")\n",
    "        if int(input('1.是，2.否：')) == 1:\n",
    "            funcAdd(word)          \n",
    "    \n",
    "def funcPrac():\n",
    "    eng = random.choice(list(dic.keys()))\n",
    "    chi = dic[eng]\n",
    "    ans = input(\"請輸入'\" + chi + \"'的英文：\")\n",
    "    if ans == eng: print('答對了！')\n",
    "    else: print('答錯了！正確答案為：', eng)\n",
    "    \n",
    "def funcViewAll():\n",
    "    for eng, chi in dic.items():\n",
    "        print(eng, chi)\n",
    "\n",
    "def funcDel():\n",
    "    funcViewAll()\n",
    "    word = input('請輸入要刪除的單字：')\n",
    "    for eng, chi in dic.items():\n",
    "        if word == chi:\n",
    "            del dic[eng]\n",
    "            return\n",
    "        elif word == eng:\n",
    "            del dic[eng]\n",
    "            return\n",
    "    print('刪除失敗！')\n",
    "        \n",
    "        \n",
    "while(choice != 6):\n",
    "    print(message)\n",
    "    choice = input('請輸入1-6：')\n",
    "    if choice.isdigit() == True:\n",
    "        choice = int(choice)\n",
    "        if choice == 1: funcAdd(input('請輸入要增加的英文單字：'))\n",
    "        elif choice == 2: funcFind(input('請輸入要查詢的英文單字：'))\n",
    "        elif choice == 3: funcPrac()\n",
    "        elif choice == 4: funcViewAll()\n",
    "        elif choice == 5: funcDel()\n",
    "        elif choice == 6: break\n",
    "        else: print('暫無此功能！')\n",
    "    else:\n",
    "        print('輸入的不是數字！請重新輸入！')\n",
    "    \n",
    "print('Thanks! See you next time!')"
   ]
  }
 ],
 "metadata": {
  "kernelspec": {
   "display_name": "Python 3",
   "language": "python",
   "name": "python3"
  },
  "language_info": {
   "codemirror_mode": {
    "name": "ipython",
    "version": 3
   },
   "file_extension": ".py",
   "mimetype": "text/x-python",
   "name": "python",
   "nbconvert_exporter": "python",
   "pygments_lexer": "ipython3",
   "version": "3.6.5"
  }
 },
 "nbformat": 4,
 "nbformat_minor": 2
}
